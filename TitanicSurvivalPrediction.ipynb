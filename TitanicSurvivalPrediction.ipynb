{
  "nbformat": 4,
  "nbformat_minor": 0,
  "metadata": {
    "colab": {
      "provenance": [],
      "authorship_tag": "ABX9TyNMJSVNMNTO38xx6gFPENHj",
      "include_colab_link": true
    },
    "kernelspec": {
      "name": "python3",
      "display_name": "Python 3"
    },
    "language_info": {
      "name": "python"
    }
  },
  "cells": [
    {
      "cell_type": "markdown",
      "metadata": {
        "id": "view-in-github",
        "colab_type": "text"
      },
      "source": [
        "<a href=\"https://colab.research.google.com/github/shahista037/RD-INFRO-TECHNOLOGY/blob/main/untitled.ipynb\" target=\"_parent\"><img src=\"https://colab.research.google.com/assets/colab-badge.svg\" alt=\"Open In Colab\"/></a>"
      ]
    },
    {
      "cell_type": "code",
      "execution_count": 1,
      "metadata": {
        "colab": {
          "base_uri": "https://localhost:8080/"
        },
        "id": "5SHvtIw7GHCK",
        "outputId": "9e691e8b-97e2-4681-bee9-62f80ec46025"
      },
      "outputs": [
        {
          "output_type": "stream",
          "name": "stdout",
          "text": [
            "   PassengerId  Survived  Pclass  \\\n",
            "0            1         0       3   \n",
            "1            2         1       1   \n",
            "2            3         1       3   \n",
            "3            4         1       1   \n",
            "\n",
            "                                                Name     Sex   Age  SibSp  \\\n",
            "0                            Braund, Mr. Owen Harris    male  22.0      1   \n",
            "1  Cumings, Mrs. John Bradley (Florence Briggs Th...  female  38.0      1   \n",
            "2                             Heikkinen, Miss. Laina  female  26.0      0   \n",
            "3       Futrelle, Mrs. Jacques Heath (Lily May Peel)  female  35.0      1   \n",
            "\n",
            "   Parch            Ticket     Fare Cabin Embarked  \n",
            "0      0         A/5 21171   7.2500   NaN        S  \n",
            "1      0          PC 17599  71.2833   C85        C  \n",
            "2      0  STON/O2. 3101282   7.9250   NaN        S  \n",
            "3      0            113803  53.1000  C123        S  \n",
            "Missing values in train dataset:\n",
            " PassengerId      0\n",
            "Survived         0\n",
            "Pclass           0\n",
            "Name             0\n",
            "Sex              0\n",
            "Age            177\n",
            "SibSp            0\n",
            "Parch            0\n",
            "Ticket           0\n",
            "Fare             0\n",
            "Cabin          687\n",
            "Embarked         2\n",
            "dtype: int64\n",
            "Missing values in test dataset:\n",
            " PassengerId      0\n",
            "Survived         0\n",
            "Pclass           0\n",
            "Name             0\n",
            "Sex              0\n",
            "Age             86\n",
            "SibSp            0\n",
            "Parch            0\n",
            "Ticket           0\n",
            "Fare             1\n",
            "Cabin          327\n",
            "Embarked         0\n",
            "dtype: int64\n",
            "First 5 rows of training predictors:\n",
            " [[ 3.      0.     22.      7.25  ]\n",
            " [ 1.      1.     38.     71.2833]\n",
            " [ 3.      1.     26.      7.925 ]\n",
            " [ 1.      1.     35.     53.1   ]\n",
            " [ 3.      0.     35.      8.05  ]]\n",
            "First 10 predictions:\n",
            " [0 0 0 0 1 0 1 0 1 0]\n",
            "Cross-validation scores:\n",
            " [0.77578475 0.79820628 0.77130045 0.79279279]\n"
          ]
        }
      ],
      "source": [
        "import pandas as pd\n",
        "from sklearn.linear_model import LogisticRegression, LogisticRegressionCV\n",
        "from sklearn.model_selection import cross_val_score\n",
        "\n",
        "# Load data\n",
        "train = pd.read_csv('train.csv')\n",
        "test = pd.read_csv('tested.csv')\n",
        "\n",
        "# Display the first 4 rows\n",
        "print(train.head(4))\n",
        "\n",
        "# Check for missing values\n",
        "print(\"Missing values in train dataset:\\n\", train.isnull().sum())\n",
        "print(\"Missing values in test dataset:\\n\", test.isnull().sum())\n",
        "\n",
        "# Impute missing 'Age' with the median of the train data\n",
        "impute_value = train['Age'].median()\n",
        "train['Age'] = train['Age'].fillna(impute_value)\n",
        "test['Age'] = test['Age'].fillna(impute_value)\n",
        "\n",
        "# Impute missing 'Fare' with the median of the train data (if exists)\n",
        "if 'Fare' in train.columns:\n",
        "    fare_impute = train['Fare'].median()\n",
        "    train['Fare'] = train['Fare'].fillna(fare_impute)\n",
        "    test['Fare'] = test['Fare'].fillna(fare_impute)\n",
        "\n",
        "# Create a binary feature for female gender\n",
        "train['IsFemale'] = (train['Sex'] == 'female').astype(int)\n",
        "test['IsFemale'] = (test['Sex'] == 'female').astype(int)\n",
        "\n",
        "# Define predictors and target variable\n",
        "predictors = ['Pclass', 'IsFemale', 'Age', 'Fare']\n",
        "X_train = train[predictors].values\n",
        "X_test = test[predictors].values\n",
        "y_train = train['Survived'].values\n",
        "\n",
        "# Check the first 5 rows of predictors\n",
        "print(\"First 5 rows of training predictors:\\n\", X_train[:5])\n",
        "\n",
        "# Logistic regression model\n",
        "model = LogisticRegression(max_iter=1000)\n",
        "model.fit(X_train, y_train)\n",
        "\n",
        "# Predict survival for the test data\n",
        "y_predict = model.predict(X_test)\n",
        "print(\"First 10 predictions:\\n\", y_predict[:10])\n",
        "\n",
        "# Logistic regression with cross-validation\n",
        "model_cv = LogisticRegressionCV(cv=10, max_iter=1000)  # Use cv to specify number of folds\n",
        "model_cv.fit(X_train, y_train)\n",
        "\n",
        "# Cross-validation scores\n",
        "scores = cross_val_score(model, X_train, y_train, cv=4)\n",
        "print(\"Cross-validation scores:\\n\", scores)"
      ]
    }
  ]
}
